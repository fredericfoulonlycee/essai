{
 "cells": [
  {
   "cell_type": "markdown",
   "metadata": {},
   "source": [
    "# Méthode de Newton\n",
    "\n",
    "Soit $I$ un intervalle de $\\mathbb{R}$ et $f$  une fonction dérivable sur $I$.\n",
    "\n",
    "Pour déterminer une approximation numérique des solutions de l’équation  $f(x)=0$, la méthode de NEWTON part d’une solution approchée $x_0$ et remplace l’équation $f(x)=0$ par l’équation approchée $f(x_0)+(x−x_0)f′(x_0)=0$,d’où la solution $x=x_0−\\dfrac{f(x_0)}{f′(x_0)}$. On assimile la courbe à sa tangente au point d’abscisse $x_0$.\n",
    "\n",
    "Bien entendu, cette formule n’a un sens que si  $f′(x_0)\\not=0$. On espère que le nombre réel $x_1$ donné par cette équation est un peu plus proche d’une racine que ne l’était $x_0$. En tout cas, si $x_1$ appartient encore à $I$, on peut recommencer en partant de $x_1$, etc.\n",
    "\n",
    "<IMG SRC=\"newton.png\">\n",
    "\n",
    "On sent la procédure algorithmique poindre son nez. Pour finir de la mettre en évidence, nous allons formaliser la méthode précédente en introduisant la suite des approximations successives définie (pas forcément pour tout $n$) par la relation de récurrence : $x_{n+1}=x_n−\\dfrac{f(x_n)}{f′(x_n)}$ et $x_0\\in I$. \n",
    "\n",
    "* On part d’un nombre quelconque $x_0$ ;\n",
    "* à partir de $x_0$, on calcule un nouveau nombre $x_1$ de la manière suivante (voir figure ) : on trace la tangente au graphe de $f$  au point d’abscisse $x_0$, et on détermine le point d’intersection de cette tangente avec l’axe des abscisses. On appelle $x_1$ l’abscisse de ce point d’intersection ;\n",
    "* et on recommence : on calcule un nouveau nombre $x_2$ en appliquant le procédé décrit au point 2 où l’on remplace $x_0$ par $x_1$;\n",
    "* etc.\n",
    "\n",
    "### Exercice de mathématiques pour vérifier que la suite converge vers une racine de f\n",
    "\n",
    "On veut résoudre l’équation $x^3−2x−5=0$ par la méthode de NEWTON appelée aussi méthode de la tangente. On note $f$ la fonction $x\\mapsto x^3−2x−5$\n",
    "1. Montrer rapidement que l’équation $f(x)=0$ admet une unique solution $\\alpha$ sur $\\mathbb{R}$. Montrez que $2<\\alpha<3$.\n",
    "2. Déterminer la fonction $\\phi$ telle que $x_{n+1}=\\phi(x_n)$, la suite $(x_n)$ étant celle décrite au paragraphe précédent en prenant $x_0=3$.\n",
    "3. Étudier le sens de variation de la fonction $\\phi$, vérifier que $\\phi$ est strictement croissante sur $[\\alpha, 3]$.\n",
    "4. On admet que $[\\alpha, 3]$ est stable par $\\phi$ que pouvez-vous en déduire sur la convergence de la suite $x_n$ ?\n",
    "\n",
    "L'exercice est de niveau terminale S, il est nécessaire de connaître le théorème des valeurs intermédiaires et le raisonnement par récurrence.\n",
    "\n",
    "## Test d’arrêt\n",
    "Afin de construire un algorithme donnant une approximation d’une solution d’une équation numérique par la méthode de NEWTON, il faudrait déterminer un test d’arrêt c’est-à-dire savoir à partir de quel rang $n$,$\\left|x_n−\\alpha\\right|$ restera inférieur à une valeur donnée. Nous choisirons commetest d’arrêt $\\left|\\dfrac{f(x_n)}{f′(x_n)}\\right|<p$ avec $p$ la précision choisie. Il ne reste plus qu’à écrire l’algorithme.\n",
    "\n",
    "**Données à définir :**\n",
    "* la fonction f \n",
    "* la fonction fp dérivée de f \n",
    "* N le nombre maximum d’itérations // pour éviter de « planter » Python\n",
    "\n",
    "**Entrées :**\n",
    "* precision\n",
    "* premier terme $x_0$\n",
    "\n",
    "**Sorties :**\n",
    "* retourner L’approximation et le nombre d'itération $n$"
   ]
  },
  {
   "cell_type": "code",
   "execution_count": 3,
   "metadata": {},
   "outputs": [
    {
     "name": "stdout",
     "output_type": "stream",
     "text": [
      "Precision =0.000000001\n",
      "Premier  terme =2.5\n",
      "Une  solution  proche  de  2.094551481550247  avec  4  itération(s)\n"
     ]
    }
   ],
   "source": [
    "# Données\n",
    "\n",
    "def f(x):\n",
    "    return x**3 -2*x-5\n",
    "\n",
    "def fp(x):\n",
    "    return  3*x**2-2\n",
    "\n",
    "N=50\n",
    "\n",
    "# Entrées\n",
    "\n",
    "precision = eval(input(\"Precision =\"))\n",
    "\n",
    "x0 = eval(input(\"Premier  terme =\"))\n",
    "\n",
    "# Initialisation\n",
    "\n",
    "compteur = 0\n",
    "xn = x0\n",
    "\n",
    "# Traitement\n",
    "\n",
    "while abs(f(xn)/fp(xn)) >= precision and compteur < N:\n",
    "    xn = xn -f(xn)/fp(xn)\n",
    "    compteur = compteur + 1\n",
    "    if fp(xn) == 0:\n",
    "        print(\"Fin du  programme  division  par 0 impossible !\")\n",
    "        break\n",
    "\n",
    "# Sorties\n",
    "print(\"Une  solution  proche  de \",xn,\" avec \",compteur ,\" itération(s)\")"
   ]
  }
 ],
 "metadata": {
  "kernelspec": {
   "display_name": "Python 3",
   "language": "python",
   "name": "python3"
  },
  "language_info": {
   "codemirror_mode": {
    "name": "ipython",
    "version": 3
   },
   "file_extension": ".py",
   "mimetype": "text/x-python",
   "name": "python",
   "nbconvert_exporter": "python",
   "pygments_lexer": "ipython3",
   "version": "3.7.1"
  }
 },
 "nbformat": 4,
 "nbformat_minor": 2
}
