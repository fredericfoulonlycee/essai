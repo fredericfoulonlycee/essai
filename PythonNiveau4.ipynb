{
 "cells": [
  {
   "cell_type": "markdown",
   "metadata": {},
   "source": [
    "<h1 style=\"font-size:40px;color:teal;\" >Stage : Python niveau 4</h1>\n",
    "<h2 style=\"font-size:20px;color:lightseagreen;\" >Création de fonctions</h2>"
   ]
  },
  {
   "cell_type": "markdown",
   "metadata": {},
   "source": [
    "Dans d'autres langages, le type qui lui ressemble le plus est le tableau. Mais en Python, l'objet liste est plus puissant car il ressemble à nos chères suites mathématiques : sa taille n'est pas limitée (sauf par la mémoire).\n",
    "\n",
    "Les éléments d'une liste sont séparées par des virgules et entourées par les crochets."
   ]
  },
  {
   "cell_type": "code",
   "execution_count": null,
   "metadata": {
    "collapsed": true
   },
   "outputs": [],
   "source": [
    "liste = [1,2,3,5,8,101,28]\n",
    "print(type(liste))"
   ]
  },
  {
   "cell_type": "markdown",
   "metadata": {},
   "source": [
    "Pour accéder à un élément de la liste, on donne son indice comme pour nos belles suites mathématiques. Et bien sûr, on commence par 0."
   ]
  },
  {
   "cell_type": "code",
   "execution_count": null,
   "metadata": {
    "collapsed": true
   },
   "outputs": [],
   "source": [
    "liste[0]"
   ]
  },
  {
   "cell_type": "markdown",
   "metadata": {},
   "source": [
    "Nous pouvons aussi lire la suite à l'envers à l'aide des indices négatifs."
   ]
  },
  {
   "cell_type": "code",
   "execution_count": null,
   "metadata": {
    "collapsed": true
   },
   "outputs": [],
   "source": [
    "liste[-1]"
   ]
  },
  {
   "cell_type": "markdown",
   "metadata": {},
   "source": [
    "Nous pouvons ajouter deux listes, c'est la concaténation comme pour les chaînes de caractères (voir niveau 1)."
   ]
  },
  {
   "cell_type": "code",
   "execution_count": null,
   "metadata": {
    "collapsed": true
   },
   "outputs": [],
   "source": [
    "[1,2,3]+[4,5,6]"
   ]
  },
  {
   "cell_type": "markdown",
   "metadata": {},
   "source": [
    "Pour ajouter un terme à notre liste, pouvons donc faire :"
   ]
  },
  {
   "cell_type": "code",
   "execution_count": null,
   "metadata": {
    "collapsed": true
   },
   "outputs": [],
   "source": [
    "liste = liste + [256]\n",
    "print(liste)"
   ]
  },
  {
   "cell_type": "markdown",
   "metadata": {},
   "source": [
    "Mais il y a une méthode plus rapide en utilisant les méthodes de la classe `list`.\n",
    "\n",
    "## Les classes d'objets et leurs méthodes\n",
    "\n",
    "Les objets de Python sont des classes. Les classes sont des types abstraits plus sophistiqués que la notion basique de type.\n",
    "\n",
    "En effet, une classe est livrée avec des méthodes. Ce sont des fonctions qui s'appliquent sur les objets de la classe.\n",
    "\n",
    "Par exemple, pour la classe `list`, nous avons accès à des méthodes permettant d'en connaître la taille, d'ajouter un élément, d'en retirer ou de la remplir en suivant une règle de construction."
   ]
  },
  {
   "cell_type": "code",
   "execution_count": null,
   "metadata": {
    "collapsed": true
   },
   "outputs": [],
   "source": [
    "# extrait du dernier élément d'une liste avec la méthode pop\n",
    "dernier = liste.pop()\n",
    "print(\"On a extrait l'élément \",dernier,\" de la liste \",liste)"
   ]
  },
  {
   "cell_type": "code",
   "execution_count": null,
   "metadata": {
    "collapsed": true
   },
   "outputs": [],
   "source": [
    "# retire l'élément 32 de la liste\n",
    "liste.remove(32)\n",
    "print(liste)"
   ]
  },
  {
   "cell_type": "code",
   "execution_count": null,
   "metadata": {
    "collapsed": true
   },
   "outputs": [],
   "source": [
    "# inverse l'ordre des éléments de la liste\n",
    "liste.reverse()\n",
    "print(liste)"
   ]
  },
  {
   "cell_type": "code",
   "execution_count": null,
   "metadata": {
    "collapsed": true
   },
   "outputs": [],
   "source": [
    "# ajoute 32 à la fin de la liste avec la méthode append\n",
    "liste.append(32)\n",
    "print(liste)"
   ]
  },
  {
   "cell_type": "code",
   "execution_count": null,
   "metadata": {
    "collapsed": true
   },
   "outputs": [],
   "source": [
    "# range les éléments de la liste dans l'ordre croissant\n",
    "liste.sort()\n",
    "print(liste)"
   ]
  },
  {
   "cell_type": "markdown",
   "metadata": {},
   "source": [
    "## Boucle Pour\n",
    "\n",
    "La boucle **Pour** de Python n'est pas celle des premiers langages informatiques. C'est ce qui perturbe bon nombre de programmeur découvrant Python. \n",
    "\n",
    "En effet, cette boucle sert à parcourir des listes du début jusque la fin.\n",
    "\n",
    "La boucle **Pour** se présente ainsi `for x in list:` et x prendra la valeur de tous les éléments de la liste les uns après les autres."
   ]
  },
  {
   "cell_type": "code",
   "execution_count": null,
   "metadata": {
    "collapsed": true
   },
   "outputs": [],
   "source": [
    "mathématiciens = ['Abel', 'Bernoulli', 'Chasles', 'Descartes', 'Euclide', 'Fibonacci']\n",
    "for nom in mathématiciens:\n",
    "    print(nom, 'est mon ami')"
   ]
  },
  {
   "cell_type": "markdown",
   "metadata": {},
   "source": [
    "Pour faire des boucles comme le faisaient les vieux langages informatiques, nous devons créer une liste d'indices."
   ]
  },
  {
   "cell_type": "code",
   "execution_count": null,
   "metadata": {
    "collapsed": true
   },
   "outputs": [],
   "source": [
    "factoriel = 1\n",
    "for i in [2,3,4,5,6,7,8,9,10]:\n",
    "    factoriel = factoriel * i\n",
    "print('10! =',factoriel)"
   ]
  },
  {
   "cell_type": "markdown",
   "metadata": {},
   "source": [
    "Hélas, vous vous dites que ce sera bien long de calculer $100!$ avec cette méthode.\n",
    "\n",
    "## Liste d'indices avec Range\n",
    "\n",
    "range en anglais signifie gamme. Avec l'objet `range`, nous allons pouvoir écrire une 'gamme' de nombres rangés dans l'ordre.\n",
    "\n",
    "L'objet `range( début, fin, pas )` simule une liste de nombres entiers dans l'intervalle [ début, fin [ (début inclus, fin exclu) de pas en pas.\n",
    "\n",
    "Python convertit seul cet objet en liste dans un **Pour**, mais nous pouvons le forcer à le faire dans les exemples ci-dessous."
   ]
  },
  {
   "cell_type": "code",
   "execution_count": 1,
   "metadata": {},
   "outputs": [
    {
     "data": {
      "text/plain": [
       "[10,\n",
       " 11,\n",
       " 12,\n",
       " 13,\n",
       " 14,\n",
       " 15,\n",
       " 16,\n",
       " 17,\n",
       " 18,\n",
       " 19,\n",
       " 20,\n",
       " 21,\n",
       " 22,\n",
       " 23,\n",
       " 24,\n",
       " 25,\n",
       " 26,\n",
       " 27,\n",
       " 28,\n",
       " 29,\n",
       " 30,\n",
       " 31,\n",
       " 32,\n",
       " 33,\n",
       " 34,\n",
       " 35,\n",
       " 36,\n",
       " 37,\n",
       " 38,\n",
       " 39,\n",
       " 40,\n",
       " 41,\n",
       " 42,\n",
       " 43,\n",
       " 44,\n",
       " 45,\n",
       " 46,\n",
       " 47,\n",
       " 48,\n",
       " 49,\n",
       " 50,\n",
       " 51,\n",
       " 52,\n",
       " 53,\n",
       " 54,\n",
       " 55,\n",
       " 56,\n",
       " 57,\n",
       " 58,\n",
       " 59,\n",
       " 60,\n",
       " 61,\n",
       " 62,\n",
       " 63,\n",
       " 64,\n",
       " 65,\n",
       " 66,\n",
       " 67,\n",
       " 68,\n",
       " 69,\n",
       " 70,\n",
       " 71,\n",
       " 72,\n",
       " 73,\n",
       " 74,\n",
       " 75,\n",
       " 76,\n",
       " 77,\n",
       " 78,\n",
       " 79,\n",
       " 80,\n",
       " 81,\n",
       " 82,\n",
       " 83,\n",
       " 84,\n",
       " 85,\n",
       " 86,\n",
       " 87,\n",
       " 88,\n",
       " 89,\n",
       " 90,\n",
       " 91,\n",
       " 92,\n",
       " 93,\n",
       " 94,\n",
       " 95,\n",
       " 96,\n",
       " 97,\n",
       " 98,\n",
       " 99,\n",
       " 100]"
      ]
     },
     "execution_count": 1,
     "metadata": {},
     "output_type": "execute_result"
    }
   ],
   "source": [
    "list(range(10,101,1))"
   ]
  },
  {
   "cell_type": "markdown",
   "metadata": {},
   "source": [
    "Python permet de donner des valeurs par défaut aux arguments. Par exemple, si nous ne donnons pas de valeur à pas, Python choisit alors un pas de 1.\n",
    "\n",
    "Mais que comprend Python lorsque l'on écrit :"
   ]
  },
  {
   "cell_type": "code",
   "execution_count": 3,
   "metadata": {},
   "outputs": [
    {
     "data": {
      "text/plain": [
       "[0, 1, 2, 3, 4, 5, 6, 7, 8, 9]"
      ]
     },
     "execution_count": 3,
     "metadata": {},
     "output_type": "execute_result"
    }
   ],
   "source": [
    "list(range(10))"
   ]
  },
  {
   "cell_type": "markdown",
   "metadata": {},
   "source": [
    "Toujours la même rengaine : on commence à 0. Mais cela reste logique avec la fonction `len` qui donne le nombre d'éléments d'une liste."
   ]
  },
  {
   "cell_type": "code",
   "execution_count": null,
   "metadata": {
    "collapsed": true
   },
   "outputs": [],
   "source": [
    "len(range(10))"
   ]
  },
  {
   "cell_type": "markdown",
   "metadata": {},
   "source": [
    "Le bout de code calculant $10!$ devient alors :"
   ]
  },
  {
   "cell_type": "code",
   "execution_count": null,
   "metadata": {
    "collapsed": true
   },
   "outputs": [],
   "source": [
    "factoriel = 1\n",
    "for i in range(2,11):\n",
    "    factoriel = factoriel * i\n",
    "print('10! =',factoriel)"
   ]
  }
 ],
 "metadata": {
  "kernelspec": {
   "display_name": "Python 3",
   "language": "python",
   "name": "python3"
  },
  "language_info": {
   "codemirror_mode": {
    "name": "ipython",
    "version": 3
   },
   "file_extension": ".py",
   "mimetype": "text/x-python",
   "name": "python",
   "nbconvert_exporter": "python",
   "pygments_lexer": "ipython3",
   "version": "3.8.8"
  }
 },
 "nbformat": 4,
 "nbformat_minor": 2
}
