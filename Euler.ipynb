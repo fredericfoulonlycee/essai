{
 "cells": [
  {
   "cell_type": "markdown",
   "metadata": {},
   "source": [
    "# Méthode d'Euler\n",
    "\n",
    "On considère une équation différentielle d’ordre 1 avec condition initiale (problème de Cauchy) : \n",
    "    \n",
    "$\\left\\{\\begin{array}{l} F'(x)=f(x)\\\\F(x_0)=y_0\\end{array}\\right.$\n",
    "\n",
    "Dans ce problème, on connait la fonction $f$ ainsi que $x_0$. On cherche la fonction $F$ qui vérifie ce système pour tout $x$. On cherche donc une fonction $F$ dont on connait la fonction dérivée et une valeur.\n",
    "\n",
    "La méthode d'Euler permet de tracer une courbe approximative de la représentation graphique de $F$.\n",
    "\n",
    "A partir d'un pas $h$, on construit point par point, une approximation de la courbe de $F$, en remplaçant la courbe par un morceau de sa tangente au point d'abscisse $x_i$ pour trouver une valeur approchée de $F(x_i+h)$.\n",
    "\n",
    "Sur la figure ci-dessous, les points $B_i$ sont les points de $\\mathcal{C}_F$ et les points $A_i$ sont des approximations des points $B_i$ en suivant les tangentes à $\\mathcal{C}_F$.\n",
    "\n",
    "<IMG SRC=\"Euler.png\">\n",
    "    \n",
    "Travaillons avec l'exemple : $F'x)=f(x)=\\dfrac{x}2$, $F(1)=\\dfrac14$ et $h=0,5$.\n",
    "\n",
    "1. La tangente $T_0$ à $\\mathcal{C}_F$ au point d'abscisse $x_0=1$ a pour coefficient directeur $f(x_0)$. Que vaut-il ?\n",
    "2. Déterminer l'équation réduite de la tangente $T_0$ à $\\mathcal{C}_F$ au point d'abscisse $x_0=1$.\n",
    "3. En déduire les coordonnées du point $A_1$ d'abscisse $x_1=x_0+h$ sur la tangente $T_0$.\n",
    "4. La tangente à $\\mathcal{C}_F$ au point d'abscisse $x_1$ a pour coefficient directeur $f(x_1)$. Que vaut-il ?\n",
    "5. La tangente à $\\mathcal{C}_F$ au point $B_1$ d'abscisse $x_1$ ne peut pas être tracée puisqu'on ne connait pas la position exacte de $B_1$, Nous allons la remplacer par la droite parallèle à cette tangente passant par le point $A_1$. Déterminer l'équation de cette droite $T_1$.\n",
    "6. En déduire les coordonnées du point $A_2$ d'abscisse $x_2=x_1+h$ sur la droite $T_1$.\n",
    "7. De la même manière trouver les coordonnées du point $A_3$.\n",
    "8. Vérifier que la fonction $F$ est définie sur $\\mathbb{R}$ par $F(x)=\\dfrac{x^2}4$.\n",
    "\n",
    "\n",
    "# Revenons dans le cas général\n",
    "\n",
    "La droite $(A_iA_{i+1})$ a donc $f(x_i)$ comme coefficient directeur, c'est à dire $\\dfrac{y_{i+1}-y_i}{x_{i+1}-x_i}=f(x_i)$ avec $x_{i+1}=x_i+h$.\n",
    "\n",
    "1. Exprimer alors $y_{i+1}$ en fonction de $y_i$, $x_i$, $h$ et $f(x_i)$.\n",
    "2. Compléter le programme ci-dessous pour créer une fonction Euler qui prend comme paramètres la fonction $f$, les valeurs de $x_0$, $y_0$ et de $h$ ainsi que le nombre de points $n$ à évaluer et qui retroune la liste des ordonnées des points $A_i$ pour $i$ allant de 0 à $n-1$.\n"
   ]
  },
  {
   "cell_type": "code",
   "execution_count": null,
   "metadata": {},
   "outputs": [],
   "source": [
    "def f(x):\n",
    "    return x/2\n",
    "\n",
    "def Euler(f,x0,y0,h,n):\n",
    "    \n",
    "    # à compléter\n",
    "\n",
    "print(Euler(f,1,0.25,0.5,3))"
   ]
  },
  {
   "cell_type": "markdown",
   "metadata": {},
   "source": [
    "## Tracé de la courbe de F\n",
    "Exécuter le programme ci-dessous pour voir la courbe de $F$ et celle de son approximation par la méthode d'Euler."
   ]
  },
  {
   "cell_type": "code",
   "execution_count": null,
   "metadata": {},
   "outputs": [],
   "source": [
    "import matplotlib.pyplot as plt\n",
    "tabx = [1+i*0.5 for i in range(10)]\n",
    "taby = Euler(f,1,0.25,0.5,10)\n",
    "plt.plot(tabx,taby,'b-')                    # la coube approchée en bleu\n",
    "plt.plot(tabx,[x**2/4 for x in tabx],'r--') # la courbe de F en pointillé rouge\n",
    "plt.show()"
   ]
  },
  {
   "cell_type": "markdown",
   "metadata": {},
   "source": [
    "# Exercice pour le prof\n",
    "\n",
    "Transformer la fonction Euler et tracer, sur le même graphique, sur $[0;5]$, plusieurs approximations (pour $h=0.5$, $h=0.2$ et $h=0.05$) de la courbe de la fonction exponentielle solution de :\n",
    "\n",
    "$\\left\\{\\begin{array}{l} F'(x)=F(x)\\\\F(0)=1\\end{array}\\right.$\n",
    "\n",
    "<IMG SRC=\"eulersol.png\">"
   ]
  },
  {
   "cell_type": "code",
   "execution_count": null,
   "metadata": {},
   "outputs": [],
   "source": [
    " # à compléter"
   ]
  }
 ],
 "metadata": {
  "kernelspec": {
   "display_name": "Python 3",
   "language": "python",
   "name": "python3"
  },
  "language_info": {
   "codemirror_mode": {
    "name": "ipython",
    "version": 3
   },
   "file_extension": ".py",
   "mimetype": "text/x-python",
   "name": "python",
   "nbconvert_exporter": "python",
   "pygments_lexer": "ipython3",
   "version": "3.6.4"
  }
 },
 "nbformat": 4,
 "nbformat_minor": 2
}
