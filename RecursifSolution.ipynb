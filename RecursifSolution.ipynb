{
 "cells": [
  {
   "cell_type": "markdown",
   "metadata": {},
   "source": [
    "# Fonctions récursives\n",
    "\n",
    "Une fonction récursive est une fonction qui s'appelle elle-même.\n",
    "\n",
    "Attention, il faut prendre soin que la fonction arrête de s'appeler sinon on entre dans une boucle infinie.\n",
    "\n",
    "Voici un exemple où l'on compte à rebours à partir de $n$.\n",
    "S'il y a une raison de compter (au dessus de zéro) alors on affiche le compteur $n$ et on continue le compte à rebours à partir du nombre $n-1$.\n",
    "\n",
    "Faire fonctionner le programme suivant pour voir comment la récursivité fonctionne."
   ]
  },
  {
   "cell_type": "code",
   "execution_count": 1,
   "metadata": {},
   "outputs": [
    {
     "name": "stdout",
     "output_type": "stream",
     "text": [
      "5\n",
      "4\n",
      "3\n",
      "2\n",
      "1\n",
      "0\n"
     ]
    }
   ],
   "source": [
    "def rebours(n):\n",
    "    if n>=0:\n",
    "        print(n)\n",
    "        rebours(n-1)\n",
    "\n",
    "rebours(5)"
   ]
  },
  {
   "cell_type": "markdown",
   "metadata": {},
   "source": [
    "## L'exemple le plus simple : Factorielle\n",
    "\n",
    "La factorielle d'un nombre $n$ (noté $n!$) est définie par $n!=1\\times2\\times3\\times\\cdots\\times n$ et par convention $0!=1$\n",
    ". On peut créer un programme avec une boucle *pour* calculer la factorielle d'un nombre. Cette fois-ci, nous allons créer la version recursive.\n",
    "\n",
    "En remarquant que $n!=n\\times(n-1)!$, c'est à dire que `factorielle(n)=n * factorielle(n−1)`, créer une version recursive de la fonction factorielle.\n"
   ]
  },
  {
   "cell_type": "code",
   "execution_count": 2,
   "metadata": {},
   "outputs": [
    {
     "name": "stdout",
     "output_type": "stream",
     "text": [
      "3628800\n"
     ]
    }
   ],
   "source": [
    "def factorielle(n):\n",
    "    if n==1:\n",
    "        return 1\n",
    "    else:\n",
    "        return n*factorielle(n-1)\n",
    "\n",
    "print(factorielle(10))"
   ]
  },
  {
   "cell_type": "markdown",
   "metadata": {},
   "source": [
    "## Suite de Fibonnacci\n",
    "\n",
    "La suite de Fibonacci est une suite d'entiers dans laquelle chaque terme est la somme des deux termes qui le précèdent. Elle commence généralement par les termes 0 et 1 (parfois 1 et 1) et ses premiers termes sont : 0, 1, 1, 2, 3, 5, 8, 13, 21, etc. \n",
    "\n",
    "Elle doit son nom à Leonardo Fibonacci qui, dans un problème récréatif posé dans l'ouvrage Liber abaci publié en 1202, décrit la croissance d'une population de lapins : « Un homme met un couple de lapins dans un lieu isolé de tous les côtés par un mur. Combien de couples obtient-on en un an si chaque couple engendre tous les mois un nouveau couple à compter du troisième mois de son existence ? » \n",
    "\n",
    "<IMG SRC=\"FibonacciRabbit.png\">\n",
    "\n",
    "Ecrire une fonction récursive calculant le n-ième nombre de fibonacci"
   ]
  },
  {
   "cell_type": "code",
   "execution_count": 13,
   "metadata": {},
   "outputs": [
    {
     "name": "stdout",
     "output_type": "stream",
     "text": [
      "21\n"
     ]
    }
   ],
   "source": [
    "def fibonacci(n):\n",
    "    if n==0:\n",
    "        return 0\n",
    "    elif n==1:\n",
    "        return 1\n",
    "    else:\n",
    "        return fibonacci(n-1)+fibonacci(n-2)\n",
    "\n",
    "print(fibonacci(8))"
   ]
  },
  {
   "cell_type": "markdown",
   "metadata": {},
   "source": [
    "# Les tours de Hanoï\n",
    "\n",
    "Les tours de Hanoï sont un casse-tête composé de trois tours et une pile de disques rangés du plus grand au plus petit comme sur la photo ci-dessous .\n",
    "\n",
    "<IMG SRC=\"Tower_of_Hanoi.jpeg\">\n",
    "    \n",
    "Le but est de déplacer la pile de disques sur la tour de droite en ne déplaçant à chaque fois qu'un seul disque et un disque ne peut pas être posé sur un disque plus petit. Voici une animation de ce qu'il faut faire dans le cas où il y a 4 disques.\n",
    "\n",
    "<IMG SRC=\"Tower_of_Hanoi_4.gif\">\n",
    "\n",
    "## Exercice\n",
    "\n",
    "Résoudre le casse-tête avec 2 disques.\n",
    "\n",
    "## Exercice\n",
    "\n",
    "Résoudre le casse-tête avec 3 disques.\n",
    "\n",
    "## Résolution du problème\n",
    "\n",
    "Nous allons voir qu'il est très simple de créer un programme récursif qui nous dit quoi faire pour résoudre le problème. Tout d'abord on appelle les tours A, B et C. On appelle $n$ le nombre de disque présents au départ dans la tour A. Cherchons un moyen de déplacer les disques en étudiant le problème avec $n=2$ disques. Pour déplacer tous les disques de la tour A vers la tour C, on peut raisonner comme suit :\n",
    "\n",
    "- On déplace 1 disque de A vers la tour B\n",
    "- On déplace le dernier disque de A vers C\n",
    "- On déplace le disque de B vers C\n",
    "\n",
    "Regardez la solution ci-dessous avec trois disques. Retrouve-t-on le même schéma que la solution précédente dans la solution ?\n",
    "\n",
    "<IMG SRC=\"Hanoi3disques.png\">\n",
    "    \n",
    "Pour déplacer les $n=3$ disques de la tour A vers la tour C, on peut raisonner comme suit :\n",
    "\n",
    "- On déplace $n-1=2$ disques de A vers la tour B (étapes 1 à 3 sur la figure ci-dessus)\n",
    "- On déplace le dernier disque de A vers C (étape 4 sur la figure ci-dessus)\n",
    "- On déplace les $n-1=2$ disques de B vers C (étape 5 à 7 sur la figure ci-dessus)\n",
    "\n",
    "Ce sont les mêmes mouvements que l'on a fait pour résoudre le problème à deux disques.\n",
    "\n",
    "Donc si on a trois disques à déplacer, on en déplace deux pour pouvoir pouvoir bien placer le troisième puis on s'occupe des deux mis de côté.\n",
    "\n",
    "En généralisant, si on a $n$ disques à déplacer, on en déplace $n-1$ pour pouvoir bien placer le dernier puis on s'occupe des $n-1$ mis de côté.\n",
    "\n",
    "L'astuce ici est de créer une fonction `hanoi` qui prend 4 paramètres : `hanoi(n,debut,inter,fin)` où `n` est le nombre de disques à déplacer, `debut` est la tour de départ de nos `n` disques, `inter` est la tour intermédiaire que l'on peut utiliser pour déplacer et `fin` est la tour où doivent se trouver les `n` disques au final.\n",
    "\n",
    "Ainsi, au début on va lancer `hanoi(n,\"A\",\"B\",\"C\")` mais quand on va vouloir déplacer les n-1 disques de A vers B, on écrira `hanoi(n-1,\"A\",\"C\",\"B\")`.\n",
    "\n",
    "Ecrire cette fonction recursive `hanoi(n,debut,inter,fin)` de manière à afficher (avec print) à chaque étape le déplacement à effectuer sous la forme \"A -> B\" pour un déplacement de la tour \"A\" vers la tour \"B\" par exemple.\n",
    "\n"
   ]
  },
  {
   "cell_type": "code",
   "execution_count": 14,
   "metadata": {},
   "outputs": [
    {
     "name": "stdout",
     "output_type": "stream",
     "text": [
      "A -> C\n",
      "A -> B\n",
      "C -> B\n",
      "A -> C\n",
      "B -> A\n",
      "B -> C\n",
      "A -> C\n"
     ]
    }
   ],
   "source": [
    "def hanoi(n,debut,inter,fin):\n",
    "    if n==1:\n",
    "        print(debut, \"->\", fin)\n",
    "    else:\n",
    "        hanoi(n-1,debut,fin,inter)\n",
    "        print(debut, \"->\", fin)\n",
    "        hanoi(n-1,inter,debut,fin)\n",
    "\n",
    "hanoi(3,\"A\",\"B\",\"C\")"
   ]
  }
 ],
 "metadata": {
  "kernelspec": {
   "display_name": "Python 3",
   "language": "python",
   "name": "python3"
  },
  "language_info": {
   "codemirror_mode": {
    "name": "ipython",
    "version": 3
   },
   "file_extension": ".py",
   "mimetype": "text/x-python",
   "name": "python",
   "nbconvert_exporter": "python",
   "pygments_lexer": "ipython3",
   "version": "3.7.0"
  }
 },
 "nbformat": 4,
 "nbformat_minor": 2
}
