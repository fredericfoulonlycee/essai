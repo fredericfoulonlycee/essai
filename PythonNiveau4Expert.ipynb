{
 "cells": [
  {
   "cell_type": "markdown",
   "metadata": {},
   "source": [
    "<h1 style=\"font-size:40px;color:teal;\" >Stage : Python niveau 5</h1>\n",
    "<h2 style=\"font-size:20px;color:lightseagreen;\" >L'objet liste</h2>"
   ]
  },
  {
   "cell_type": "markdown",
   "metadata": {},
   "source": [
    "Dans d'autres langages, le type qui lui ressemble le plus est le tableau. Mais en Python, l'objet liste est plus puissant car il ressemble à nos chères suites mathématiques : sa taille n'est pas limitée (sauf par la mémoire).\n",
    "\n",
    "Les éléments d'une liste sont séparées par des virgules et entourées par les crochets."
   ]
  },
  {
   "cell_type": "code",
   "execution_count": null,
   "metadata": {
    "collapsed": true
   },
   "outputs": [],
   "source": [
    "liste = [1,2,4,8,16,32,64,128]\n",
    "print(type(liste))"
   ]
  },
  {
   "cell_type": "markdown",
   "metadata": {},
   "source": [
    "Pour accéder à un élément de la liste, on donne son indice comme pour nos belles suites mathématiques. Et bien sûr, on commence par 0."
   ]
  },
  {
   "cell_type": "code",
   "execution_count": null,
   "metadata": {
    "collapsed": true
   },
   "outputs": [],
   "source": [
    "liste[0]"
   ]
  },
  {
   "cell_type": "markdown",
   "metadata": {},
   "source": [
    "Nous pouvons aussi lire la suite à l'envers à l'aide des indices négatifs."
   ]
  },
  {
   "cell_type": "code",
   "execution_count": null,
   "metadata": {
    "collapsed": true
   },
   "outputs": [],
   "source": [
    "liste[-1]"
   ]
  },
  {
   "cell_type": "markdown",
   "metadata": {},
   "source": [
    "Nous pouvons ajouter deux listes, c'est la concaténation comme pour les chaînes de caractères (voir niveau 1)."
   ]
  },
  {
   "cell_type": "code",
   "execution_count": null,
   "metadata": {
    "collapsed": true
   },
   "outputs": [],
   "source": [
    "[1,2,3]+[4,5,6]"
   ]
  },
  {
   "cell_type": "markdown",
   "metadata": {},
   "source": [
    "Pour ajouter un terme à notre liste, pouvons donc faire :"
   ]
  },
  {
   "cell_type": "code",
   "execution_count": null,
   "metadata": {
    "collapsed": true
   },
   "outputs": [],
   "source": [
    "liste = liste + [256]\n",
    "print(liste)"
   ]
  },
  {
   "cell_type": "markdown",
   "metadata": {},
   "source": [
    "Mais il y a une méthode plus rapide en utilisant les méthodes de la classe `list`.\n",
    "\n",
    "## Les classes d'objets et leurs méthodes\n",
    "\n",
    "Les objets de Python sont des classes. Les classes sont des types abstraits plus sophistiqués que la notion basique de type.\n",
    "\n",
    "En effet, une classe est livrée avec des méthodes. Ce sont des fonctions qui s'appliquent sur les objets de la classe.\n",
    "\n",
    "Par exemple, pour la classe `list`, nous avons accès à des méthodes permettant d'en connaître la taille, d'ajouter un élément, d'en retirer ou de la remplir en suivant une règle de construction."
   ]
  },
  {
   "cell_type": "code",
   "execution_count": null,
   "metadata": {
    "collapsed": true
   },
   "outputs": [],
   "source": [
    "# extrait du dernier élément d'une liste avec la méthode pop\n",
    "dernier = liste.pop()\n",
    "print(\"On a extrait l'élément \",dernier,\" de la liste \",liste)"
   ]
  },
  {
   "cell_type": "code",
   "execution_count": null,
   "metadata": {
    "collapsed": true
   },
   "outputs": [],
   "source": [
    "# retire l'élément 32 de la liste\n",
    "liste.remove(32)\n",
    "print(liste)"
   ]
  },
  {
   "cell_type": "code",
   "execution_count": null,
   "metadata": {
    "collapsed": true
   },
   "outputs": [],
   "source": [
    "# inverse l'ordre des éléments de la liste\n",
    "liste.reverse()\n",
    "print(liste)"
   ]
  },
  {
   "cell_type": "code",
   "execution_count": null,
   "metadata": {
    "collapsed": true
   },
   "outputs": [],
   "source": [
    "# ajoute 32 à la fin de la liste avec la méthode append\n",
    "liste.append(32)\n",
    "print(liste)"
   ]
  },
  {
   "cell_type": "code",
   "execution_count": null,
   "metadata": {
    "collapsed": true
   },
   "outputs": [],
   "source": [
    "# range les éléments de la liste dans l'ordre croissant\n",
    "liste.sort()\n",
    "print(liste)"
   ]
  },
  {
   "cell_type": "markdown",
   "metadata": {},
   "source": [
    "## Boucle Pour\n",
    "\n",
    "La boucle **Pour** de Python n'est pas celle des premiers langages informatiques. C'est ce qui perturbe bon nombre de programmeur découvrant Python. \n",
    "\n",
    "En effet, cette boucle sert à parcourir des listes du début jusque la fin.\n",
    "\n",
    "La boucle **Pour** se présente ainsi `for x in list:` et x prendra la valeur de tous les éléments de la liste les uns après les autres."
   ]
  },
  {
   "cell_type": "code",
   "execution_count": null,
   "metadata": {
    "collapsed": true
   },
   "outputs": [],
   "source": [
    "mathématiciens = ['Abel', 'Bernoulli', 'Chasles', 'Descartes', 'Euclide', 'Fibonacci']\n",
    "for nom in mathématiciens:\n",
    "    print(nom, 'est mon ami')"
   ]
  },
  {
   "cell_type": "markdown",
   "metadata": {},
   "source": [
    "Pour faire des boucles comme le faisaient les vieux langages informatiques, nous devons créer une liste d'indices."
   ]
  },
  {
   "cell_type": "code",
   "execution_count": null,
   "metadata": {
    "collapsed": true
   },
   "outputs": [],
   "source": [
    "factoriel = 1\n",
    "for i in [2,3,4,5,6,7,8,9,10]:\n",
    "    factoriel = factoriel * i\n",
    "print('10! =',factoriel)"
   ]
  },
  {
   "cell_type": "markdown",
   "metadata": {},
   "source": [
    "Hélas, vous vous dites que ce sera bien long de calculer $100!$ avec cette méthode.\n",
    "\n",
    "## Liste d'indices avec Range\n",
    "\n",
    "range en anglais signifie gamme. Avec l'objet `range`, nous allons pouvoir écrire une 'gamme' de nombres rangés dans l'ordre.\n",
    "\n",
    "L'objet `range( début, fin, pas )` simule une liste de nombres entiers dans l'intervalle [ début, fin [ (début inclus, fin exclu) de pas en pas.\n",
    "\n",
    "Python convertit seul cet objet en liste dans un **Pour**, mais nous pouvons le forcer à le faire dans les exemples ci-dessous."
   ]
  },
  {
   "cell_type": "code",
   "execution_count": null,
   "metadata": {
    "collapsed": true
   },
   "outputs": [],
   "source": [
    "list(range(10,100,5))"
   ]
  },
  {
   "cell_type": "markdown",
   "metadata": {},
   "source": [
    "Python permet de donner des valeurs par défaut aux arguments. Par exemple, si nous ne donnons pas de valeur à pas, Python choisit alors un pas de 1.\n",
    "\n",
    "Mais que comprend Python lorsque l'on écrit :"
   ]
  },
  {
   "cell_type": "code",
   "execution_count": null,
   "metadata": {
    "collapsed": true
   },
   "outputs": [],
   "source": [
    "range(10)"
   ]
  },
  {
   "cell_type": "markdown",
   "metadata": {},
   "source": [
    "Toujours la même rengaine : on commence à 0. Mais cela reste logique avec la fonction `len` qui donne le nombre d'éléments d'une liste."
   ]
  },
  {
   "cell_type": "code",
   "execution_count": null,
   "metadata": {
    "collapsed": true
   },
   "outputs": [],
   "source": [
    "len(range(10))"
   ]
  },
  {
   "cell_type": "markdown",
   "metadata": {},
   "source": [
    "Le bout de code calculant $10!$ devient alors :"
   ]
  },
  {
   "cell_type": "code",
   "execution_count": null,
   "metadata": {
    "collapsed": true
   },
   "outputs": [],
   "source": [
    "factoriel = 1\n",
    "for i in range(2,11):\n",
    "    factoriel = factoriel * i\n",
    "print('10! =',factoriel)"
   ]
  },
  {
   "cell_type": "markdown",
   "metadata": {
    "collapsed": true
   },
   "source": [
    "## Listes en compréhension\n",
    "\n",
    "Il est possible de créer rapidement une liste comme lorque l'on décrit un ensemble de nombres en compréhension.\n",
    "\n",
    "Par exemple, pour définir l'ensemble des nombres pairs strictement plus petits que 20, nous écrivons en maths :\n",
    "$\\{ 2n \\text{ tels que } n\\in\\mathbb{N}, n < 100 \\}$\n",
    "\n",
    "En python, on l'écrit dans une liste : `[2*n for n in range(10)]`\n",
    "\n",
    "Comment faire la liste des nombres impairs inférieurs à 100 ?"
   ]
  },
  {
   "cell_type": "code",
   "execution_count": 1,
   "metadata": {},
   "outputs": [],
   "source": [
    "L = [2*n for n in range(101)]"
   ]
  },
  {
   "cell_type": "code",
   "execution_count": 2,
   "metadata": {},
   "outputs": [
    {
     "name": "stdout",
     "output_type": "stream",
     "text": [
      "[0, 2, 4, 6, 8, 10, 12, 14, 16, 18, 20, 22, 24, 26, 28, 30, 32, 34, 36, 38, 40, 42, 44, 46, 48, 50, 52, 54, 56, 58, 60, 62, 64, 66, 68, 70, 72, 74, 76, 78, 80, 82, 84, 86, 88, 90, 92, 94, 96, 98, 100, 102, 104, 106, 108, 110, 112, 114, 116, 118, 120, 122, 124, 126, 128, 130, 132, 134, 136, 138, 140, 142, 144, 146, 148, 150, 152, 154, 156, 158, 160, 162, 164, 166, 168, 170, 172, 174, 176, 178, 180, 182, 184, 186, 188, 190, 192, 194, 196, 198, 200]\n"
     ]
    }
   ],
   "source": [
    "print(L)\n"
   ]
  },
  {
   "cell_type": "code",
   "execution_count": null,
   "metadata": {},
   "outputs": [],
   "source": []
  }
 ],
 "metadata": {
  "kernelspec": {
   "display_name": "Python 3",
   "language": "python",
   "name": "python3"
  },
  "language_info": {
   "codemirror_mode": {
    "name": "ipython",
    "version": 3
   },
   "file_extension": ".py",
   "mimetype": "text/x-python",
   "name": "python",
   "nbconvert_exporter": "python",
   "pygments_lexer": "ipython3",
   "version": "3.8.8"
  }
 },
 "nbformat": 4,
 "nbformat_minor": 2
}
